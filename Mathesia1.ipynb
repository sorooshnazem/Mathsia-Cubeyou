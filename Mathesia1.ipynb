{
 "cells": [
  {
   "cell_type": "code",
   "execution_count": 5,
   "metadata": {
    "collapsed": false
   },
   "outputs": [],
   "source": [
    "import csv\n",
    "import operator\n",
    "\n",
    "def gender(data):\n",
    "    return 'Female' if data[7]=='1' else 'Male'    \n",
    "\n",
    "def states(data):\n",
    "    st=data[11:63]\n",
    "    return str(st.index('1')+12)\n",
    "\n",
    "def race(data):\n",
    "    st=data[63:67]\n",
    "    return str(st.index('1')+64)\n",
    "    \n",
    "filepath='/Users/sorooshnazem/Downloads/Dataset-CUBE/data.txt'\n",
    "with open(filepath.rstrip(),'r') as input_data:\n",
    "    data= [num for num in input_data.readlines()]\n",
    "\n",
    "data=[x for x in data if not(x[11:63].isspace())]    \n",
    "data=[x for x in data if not(x[63:67].isspace())]  "
   ]
  },
  {
   "cell_type": "code",
   "execution_count": 6,
   "metadata": {
    "collapsed": false
   },
   "outputs": [],
   "source": [
    "layoutpath = '/Users/sorooshnazem/Downloads/Dataset-CUBE/layout.txt'\n",
    "with open(layoutpath.rstrip(),'r') as input_data:\n",
    "    layout= [num.split() for num in input_data.readlines()[4:]]\n",
    "\n",
    "d={}    \n",
    "for i in range(0,len(layout)):\n",
    "    d[layout[i][3]] = layout[i][2]\n"
   ]
  },
  {
   "cell_type": "code",
   "execution_count": 7,
   "metadata": {
    "collapsed": false
   },
   "outputs": [],
   "source": [
    "users=[]\n",
    "for i in range(0,len(data)):\n",
    "    users.append([int(data[i][0:7]),gender(data[i]),int(data[i][9:11]),d[states(data[i])],d[race(data[i])]])\n",
    "\n",
    "users.sort(key=operator.itemgetter(0))    "
   ]
  },
  {
   "cell_type": "code",
   "execution_count": 8,
   "metadata": {
    "collapsed": true
   },
   "outputs": [],
   "source": [
    "with open(\"users.csv\", \"wb\") as f:\n",
    "    writer = csv.writer(f)\n",
    "    writer.writerows(users)"
   ]
  },
  {
   "cell_type": "code",
   "execution_count": null,
   "metadata": {
    "collapsed": true
   },
   "outputs": [],
   "source": []
  }
 ],
 "metadata": {
  "kernelspec": {
   "display_name": "Python 2",
   "language": "python",
   "name": "python2"
  },
  "language_info": {
   "codemirror_mode": {
    "name": "ipython",
    "version": 2
   },
   "file_extension": ".py",
   "mimetype": "text/x-python",
   "name": "python",
   "nbconvert_exporter": "python",
   "pygments_lexer": "ipython2",
   "version": "2.7.12"
  }
 },
 "nbformat": 4,
 "nbformat_minor": 0
}
